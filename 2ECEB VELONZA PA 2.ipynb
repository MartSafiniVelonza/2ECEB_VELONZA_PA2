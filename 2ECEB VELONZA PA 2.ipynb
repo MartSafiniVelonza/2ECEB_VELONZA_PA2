{
 "cells": [
  {
   "cell_type": "code",
   "execution_count": 1,
   "id": "9087ebee-96c7-4316-a08a-4f46cdd765df",
   "metadata": {},
   "outputs": [
    {
     "name": "stdout",
     "output_type": "stream",
     "text": [
      "2ECEB MART SAFINI V. VELONZA\n"
     ]
    }
   ],
   "source": [
    "print(\"2ECEB MART SAFINI V. VELONZA\")"
   ]
  },
  {
   "cell_type": "markdown",
   "id": "41e9940a-634c-45f9-828a-2d4f84b013e7",
   "metadata": {},
   "source": [
    "NORMALIZATION PROBLEM"
   ]
  },
  {
   "cell_type": "code",
   "execution_count": 1,
   "id": "f346ca9f-9775-4f2a-8b99-613454742527",
   "metadata": {},
   "outputs": [],
   "source": [
    "import numpy as np"
   ]
  },
  {
   "cell_type": "code",
   "execution_count": 2,
   "id": "d744b313-58c5-4092-b098-ef730fc55e00",
   "metadata": {},
   "outputs": [],
   "source": [
    "x = np.random.random((5,5))"
   ]
  },
  {
   "cell_type": "code",
   "execution_count": 3,
   "id": "67f09f7a-1318-4ebf-99d8-9449c12e9d98",
   "metadata": {},
   "outputs": [],
   "source": [
    "normx = (x - x.mean())/x.std()"
   ]
  },
  {
   "cell_type": "code",
   "execution_count": 7,
   "id": "b0dddd7d-b3da-4cca-85b7-fb0c6c500e06",
   "metadata": {},
   "outputs": [],
   "source": [
    "np.save(\"X_normalized.npy\", normx)"
   ]
  },
  {
   "cell_type": "code",
   "execution_count": 8,
   "id": "1acd017a-7b29-4068-abbd-c85d97780591",
   "metadata": {},
   "outputs": [
    {
     "data": {
      "text/plain": [
       "array([[0.90616362, 0.87427276, 0.99583014, 0.18747656, 0.16811795],\n",
       "       [0.7463114 , 0.30895975, 0.12762786, 0.37492776, 0.07315797],\n",
       "       [0.11741335, 0.20412736, 0.60957881, 0.12867233, 0.34369321],\n",
       "       [0.06358627, 0.77640374, 0.44816043, 0.12816861, 0.45548907],\n",
       "       [0.92425801, 0.62233521, 0.28772404, 0.37176643, 0.95106935]])"
      ]
     },
     "execution_count": 8,
     "metadata": {},
     "output_type": "execute_result"
    }
   ],
   "source": [
    "x"
   ]
  },
  {
   "cell_type": "code",
   "execution_count": 9,
   "id": "a3d98e07-5c65-42a4-8164-5c356c1e7186",
   "metadata": {},
   "outputs": [
    {
     "data": {
      "text/plain": [
       "array([[ 1.47863603e+00,  1.37575663e+00,  1.76789877e+00,\n",
       "        -8.39836927e-01, -9.02287484e-01],\n",
       "       [ 9.62955327e-01, -4.47934095e-01, -1.03290789e+00,\n",
       "        -2.35122357e-01, -1.20862686e+00],\n",
       "       [-1.06585972e+00, -7.86121718e-01,  5.21858184e-01,\n",
       "        -1.02953842e+00, -3.35884520e-01],\n",
       "       [-1.23950503e+00,  1.06003273e+00,  1.12506070e-03,\n",
       "        -1.03116342e+00,  2.47671343e-02],\n",
       "       [ 1.53700823e+00,  5.63010100e-01, -5.16440179e-01,\n",
       "        -2.45320768e-01,  1.62350119e+00]])"
      ]
     },
     "execution_count": 9,
     "metadata": {},
     "output_type": "execute_result"
    }
   ],
   "source": [
    "n = np.load(\"X_normalized.npy\")\n",
    "n"
   ]
  },
  {
   "cell_type": "markdown",
   "id": "6479903d-135f-4866-990f-4003b8e31a96",
   "metadata": {},
   "source": [
    "-----------------------"
   ]
  },
  {
   "cell_type": "markdown",
   "id": "9984fadd-b341-490c-9cf7-dfa69c3ed8d7",
   "metadata": {},
   "source": [
    "DIVISIBLE BY 3 PROBLEM"
   ]
  },
  {
   "cell_type": "code",
   "execution_count": 39,
   "id": "ab2455fe-6ab6-484c-b0ab-f69113d82114",
   "metadata": {},
   "outputs": [],
   "source": [
    "import numpy as np"
   ]
  },
  {
   "cell_type": "code",
   "execution_count": 40,
   "id": "b5cc29dd-f2eb-4d9e-8d53-fe5fb9e30353",
   "metadata": {},
   "outputs": [],
   "source": [
    "a = np.arange(1,101)"
   ]
  },
  {
   "cell_type": "code",
   "execution_count": 41,
   "id": "b57f52c0-7a63-4e12-9af0-f68838ab9a17",
   "metadata": {},
   "outputs": [],
   "source": [
    "sqrnum = a ** 2"
   ]
  },
  {
   "cell_type": "code",
   "execution_count": 42,
   "id": "f7b07a5e-2c3c-455f-b51a-d71923f819c5",
   "metadata": {},
   "outputs": [
    {
     "data": {
      "text/plain": [
       "100"
      ]
     },
     "execution_count": 42,
     "metadata": {},
     "output_type": "execute_result"
    }
   ],
   "source": [
    "sqrnum.size"
   ]
  },
  {
   "cell_type": "code",
   "execution_count": 43,
   "id": "459370fe-6c9d-447f-9980-0e98cd423d76",
   "metadata": {},
   "outputs": [],
   "source": [
    "A = sqrnum.reshape(10,10)"
   ]
  },
  {
   "cell_type": "code",
   "execution_count": 44,
   "id": "39124c15-8646-425c-a105-38fe6e236a59",
   "metadata": {},
   "outputs": [
    {
     "data": {
      "text/plain": [
       "array([[    1,     4,     9,    16,    25,    36,    49,    64,    81,\n",
       "          100],\n",
       "       [  121,   144,   169,   196,   225,   256,   289,   324,   361,\n",
       "          400],\n",
       "       [  441,   484,   529,   576,   625,   676,   729,   784,   841,\n",
       "          900],\n",
       "       [  961,  1024,  1089,  1156,  1225,  1296,  1369,  1444,  1521,\n",
       "         1600],\n",
       "       [ 1681,  1764,  1849,  1936,  2025,  2116,  2209,  2304,  2401,\n",
       "         2500],\n",
       "       [ 2601,  2704,  2809,  2916,  3025,  3136,  3249,  3364,  3481,\n",
       "         3600],\n",
       "       [ 3721,  3844,  3969,  4096,  4225,  4356,  4489,  4624,  4761,\n",
       "         4900],\n",
       "       [ 5041,  5184,  5329,  5476,  5625,  5776,  5929,  6084,  6241,\n",
       "         6400],\n",
       "       [ 6561,  6724,  6889,  7056,  7225,  7396,  7569,  7744,  7921,\n",
       "         8100],\n",
       "       [ 8281,  8464,  8649,  8836,  9025,  9216,  9409,  9604,  9801,\n",
       "        10000]])"
      ]
     },
     "execution_count": 44,
     "metadata": {},
     "output_type": "execute_result"
    }
   ],
   "source": [
    "A"
   ]
  },
  {
   "cell_type": "code",
   "execution_count": 45,
   "id": "c78af17c-c57f-4110-861b-d8bd7bb3c45f",
   "metadata": {},
   "outputs": [],
   "source": [
    "divisibleby3 = A [A % 3 == 0]"
   ]
  },
  {
   "cell_type": "code",
   "execution_count": 46,
   "id": "7d322a12-6e21-40dd-a449-076d5216f098",
   "metadata": {},
   "outputs": [
    {
     "data": {
      "text/plain": [
       "array([   9,   36,   81,  144,  225,  324,  441,  576,  729,  900, 1089,\n",
       "       1296, 1521, 1764, 2025, 2304, 2601, 2916, 3249, 3600, 3969, 4356,\n",
       "       4761, 5184, 5625, 6084, 6561, 7056, 7569, 8100, 8649, 9216, 9801])"
      ]
     },
     "execution_count": 46,
     "metadata": {},
     "output_type": "execute_result"
    }
   ],
   "source": [
    "divisibleby3"
   ]
  },
  {
   "cell_type": "code",
   "execution_count": 47,
   "id": "19a35765-ba82-4d49-a8e0-b048970d0f75",
   "metadata": {},
   "outputs": [],
   "source": [
    "np.save(\"divsible_by_3.npy\", divisibleby3)"
   ]
  },
  {
   "cell_type": "code",
   "execution_count": 48,
   "id": "79302ac5-fd48-428c-9934-ec7ee011d128",
   "metadata": {},
   "outputs": [],
   "source": [
    "loaded = np.load(\"divsible_by_3.npy\")"
   ]
  },
  {
   "cell_type": "code",
   "execution_count": 49,
   "id": "a35801f5-78ae-4f00-896e-2a92764c9ab1",
   "metadata": {},
   "outputs": [
    {
     "data": {
      "text/plain": [
       "array([   9,   36,   81,  144,  225,  324,  441,  576,  729,  900, 1089,\n",
       "       1296, 1521, 1764, 2025, 2304, 2601, 2916, 3249, 3600, 3969, 4356,\n",
       "       4761, 5184, 5625, 6084, 6561, 7056, 7569, 8100, 8649, 9216, 9801])"
      ]
     },
     "execution_count": 49,
     "metadata": {},
     "output_type": "execute_result"
    }
   ],
   "source": [
    "loaded"
   ]
  }
 ],
 "metadata": {
  "kernelspec": {
   "display_name": "Python [conda env:base] *",
   "language": "python",
   "name": "conda-base-py"
  },
  "language_info": {
   "codemirror_mode": {
    "name": "ipython",
    "version": 3
   },
   "file_extension": ".py",
   "mimetype": "text/x-python",
   "name": "python",
   "nbconvert_exporter": "python",
   "pygments_lexer": "ipython3",
   "version": "3.13.5"
  }
 },
 "nbformat": 4,
 "nbformat_minor": 5
}
